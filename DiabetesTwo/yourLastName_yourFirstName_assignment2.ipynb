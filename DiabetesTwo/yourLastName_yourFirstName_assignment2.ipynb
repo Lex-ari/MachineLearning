{
  "cells": [
    {
      "cell_type": "markdown",
      "metadata": {
        "id": "WFf5zzZEgMQO"
      },
      "source": [
        "# Connect to Google Drive"
      ]
    },
    {
      "cell_type": "code",
      "execution_count": 123,
      "metadata": {
        "colab": {
          "base_uri": "https://localhost:8080/"
        },
        "id": "oT7ME9FqVIg_",
        "outputId": "736e8ec6-e47c-4003-f8af-c2aa8f366029"
      },
      "outputs": [],
      "source": [
        "# You need to download the Diabetics dataset at: https://www.kaggle.com/datasets/kandij/diabetes-dataset/data\n",
        "# Use Google Drive as Data Storage\n",
        "# from google.colab import drive\n",
        "# drive.mount('/content/gdrive')\n",
        "\n",
        "# !ls -l ./gdrive/MyDrive/Colab\\ Notebooks/datasets\n",
        "\n",
        "# Module imports\n",
        "from __future__ import print_function\n",
        "from sklearn import preprocessing\n",
        "from sklearn.model_selection import train_test_split\n",
        "import numpy as np\n",
        "import matplotlib.pyplot as plt\n",
        "import pandas as pd"
      ]
    },
    {
      "cell_type": "markdown",
      "metadata": {
        "id": "0A_JriDGhBkF"
      },
      "source": [
        "# Load Data"
      ]
    },
    {
      "cell_type": "code",
      "execution_count": 124,
      "metadata": {
        "id": "ZQ50JDWGVpWt"
      },
      "outputs": [],
      "source": [
        "# load data from \"diabetes2.csv\" file located on google drive\n",
        "# rawdata = pd.read_csv('/content/gdrive/MyDrive/Colab Notebooks/datasets/diabetes2.csv')\n",
        "\n",
        "#TEMPORARY FIX TO LOAD DATA LOCALLY INSTEAD OF GOOGLE DRIVE\n",
        "\n",
        "rawdata = pd.read_csv('diabetes2.csv')"
      ]
    },
    {
      "cell_type": "code",
      "execution_count": 125,
      "metadata": {
        "colab": {
          "base_uri": "https://localhost:8080/",
          "height": 363
        },
        "id": "6hO0JwZChRyf",
        "outputId": "e05e5c6c-7d9e-4ebe-9c3d-1e8320eebdeb"
      },
      "outputs": [
        {
          "data": {
            "text/html": [
              "<div>\n",
              "<style scoped>\n",
              "    .dataframe tbody tr th:only-of-type {\n",
              "        vertical-align: middle;\n",
              "    }\n",
              "\n",
              "    .dataframe tbody tr th {\n",
              "        vertical-align: top;\n",
              "    }\n",
              "\n",
              "    .dataframe thead th {\n",
              "        text-align: right;\n",
              "    }\n",
              "</style>\n",
              "<table border=\"1\" class=\"dataframe\">\n",
              "  <thead>\n",
              "    <tr style=\"text-align: right;\">\n",
              "      <th></th>\n",
              "      <th>Pregnancies</th>\n",
              "      <th>Glucose</th>\n",
              "      <th>BloodPressure</th>\n",
              "      <th>SkinThickness</th>\n",
              "      <th>Insulin</th>\n",
              "      <th>BMI</th>\n",
              "      <th>DiabetesPedigreeFunction</th>\n",
              "      <th>Age</th>\n",
              "      <th>Outcome</th>\n",
              "    </tr>\n",
              "  </thead>\n",
              "  <tbody>\n",
              "    <tr>\n",
              "      <th>0</th>\n",
              "      <td>6</td>\n",
              "      <td>148</td>\n",
              "      <td>72</td>\n",
              "      <td>35</td>\n",
              "      <td>0</td>\n",
              "      <td>33.6</td>\n",
              "      <td>0.627</td>\n",
              "      <td>50</td>\n",
              "      <td>1</td>\n",
              "    </tr>\n",
              "    <tr>\n",
              "      <th>1</th>\n",
              "      <td>1</td>\n",
              "      <td>85</td>\n",
              "      <td>66</td>\n",
              "      <td>29</td>\n",
              "      <td>0</td>\n",
              "      <td>26.6</td>\n",
              "      <td>0.351</td>\n",
              "      <td>31</td>\n",
              "      <td>0</td>\n",
              "    </tr>\n",
              "    <tr>\n",
              "      <th>2</th>\n",
              "      <td>8</td>\n",
              "      <td>183</td>\n",
              "      <td>64</td>\n",
              "      <td>0</td>\n",
              "      <td>0</td>\n",
              "      <td>23.3</td>\n",
              "      <td>0.672</td>\n",
              "      <td>32</td>\n",
              "      <td>1</td>\n",
              "    </tr>\n",
              "    <tr>\n",
              "      <th>3</th>\n",
              "      <td>1</td>\n",
              "      <td>89</td>\n",
              "      <td>66</td>\n",
              "      <td>23</td>\n",
              "      <td>94</td>\n",
              "      <td>28.1</td>\n",
              "      <td>0.167</td>\n",
              "      <td>21</td>\n",
              "      <td>0</td>\n",
              "    </tr>\n",
              "    <tr>\n",
              "      <th>4</th>\n",
              "      <td>0</td>\n",
              "      <td>137</td>\n",
              "      <td>40</td>\n",
              "      <td>35</td>\n",
              "      <td>168</td>\n",
              "      <td>43.1</td>\n",
              "      <td>2.288</td>\n",
              "      <td>33</td>\n",
              "      <td>1</td>\n",
              "    </tr>\n",
              "    <tr>\n",
              "      <th>5</th>\n",
              "      <td>5</td>\n",
              "      <td>116</td>\n",
              "      <td>74</td>\n",
              "      <td>0</td>\n",
              "      <td>0</td>\n",
              "      <td>25.6</td>\n",
              "      <td>0.201</td>\n",
              "      <td>30</td>\n",
              "      <td>0</td>\n",
              "    </tr>\n",
              "    <tr>\n",
              "      <th>6</th>\n",
              "      <td>3</td>\n",
              "      <td>78</td>\n",
              "      <td>50</td>\n",
              "      <td>32</td>\n",
              "      <td>88</td>\n",
              "      <td>31.0</td>\n",
              "      <td>0.248</td>\n",
              "      <td>26</td>\n",
              "      <td>1</td>\n",
              "    </tr>\n",
              "    <tr>\n",
              "      <th>7</th>\n",
              "      <td>10</td>\n",
              "      <td>115</td>\n",
              "      <td>0</td>\n",
              "      <td>0</td>\n",
              "      <td>0</td>\n",
              "      <td>35.3</td>\n",
              "      <td>0.134</td>\n",
              "      <td>29</td>\n",
              "      <td>0</td>\n",
              "    </tr>\n",
              "    <tr>\n",
              "      <th>8</th>\n",
              "      <td>2</td>\n",
              "      <td>197</td>\n",
              "      <td>70</td>\n",
              "      <td>45</td>\n",
              "      <td>543</td>\n",
              "      <td>30.5</td>\n",
              "      <td>0.158</td>\n",
              "      <td>53</td>\n",
              "      <td>1</td>\n",
              "    </tr>\n",
              "    <tr>\n",
              "      <th>9</th>\n",
              "      <td>8</td>\n",
              "      <td>125</td>\n",
              "      <td>96</td>\n",
              "      <td>0</td>\n",
              "      <td>0</td>\n",
              "      <td>0.0</td>\n",
              "      <td>0.232</td>\n",
              "      <td>54</td>\n",
              "      <td>1</td>\n",
              "    </tr>\n",
              "  </tbody>\n",
              "</table>\n",
              "</div>"
            ],
            "text/plain": [
              "   Pregnancies  Glucose  BloodPressure  SkinThickness  Insulin   BMI  \\\n",
              "0            6      148             72             35        0  33.6   \n",
              "1            1       85             66             29        0  26.6   \n",
              "2            8      183             64              0        0  23.3   \n",
              "3            1       89             66             23       94  28.1   \n",
              "4            0      137             40             35      168  43.1   \n",
              "5            5      116             74              0        0  25.6   \n",
              "6            3       78             50             32       88  31.0   \n",
              "7           10      115              0              0        0  35.3   \n",
              "8            2      197             70             45      543  30.5   \n",
              "9            8      125             96              0        0   0.0   \n",
              "\n",
              "   DiabetesPedigreeFunction  Age  Outcome  \n",
              "0                     0.627   50        1  \n",
              "1                     0.351   31        0  \n",
              "2                     0.672   32        1  \n",
              "3                     0.167   21        0  \n",
              "4                     2.288   33        1  \n",
              "5                     0.201   30        0  \n",
              "6                     0.248   26        1  \n",
              "7                     0.134   29        0  \n",
              "8                     0.158   53        1  \n",
              "9                     0.232   54        1  "
            ]
          },
          "execution_count": 125,
          "metadata": {},
          "output_type": "execute_result"
        }
      ],
      "source": [
        "# display the top rows\n",
        "rawdata.head(10)"
      ]
    },
    {
      "cell_type": "code",
      "execution_count": 126,
      "metadata": {
        "colab": {
          "base_uri": "https://localhost:8080/"
        },
        "id": "A9S3GGZ7VacM",
        "outputId": "6d41e9a2-ab23-41ae-a43d-4e4aa83a3bab"
      },
      "outputs": [
        {
          "name": "stdout",
          "output_type": "stream",
          "text": [
            "<class 'pandas.core.frame.DataFrame'>\n",
            "RangeIndex: 768 entries, 0 to 767\n",
            "Data columns (total 9 columns):\n",
            " #   Column                    Non-Null Count  Dtype  \n",
            "---  ------                    --------------  -----  \n",
            " 0   Pregnancies               768 non-null    int64  \n",
            " 1   Glucose                   768 non-null    int64  \n",
            " 2   BloodPressure             768 non-null    int64  \n",
            " 3   SkinThickness             768 non-null    int64  \n",
            " 4   Insulin                   768 non-null    int64  \n",
            " 5   BMI                       768 non-null    float64\n",
            " 6   DiabetesPedigreeFunction  768 non-null    float64\n",
            " 7   Age                       768 non-null    int64  \n",
            " 8   Outcome                   768 non-null    int64  \n",
            "dtypes: float64(2), int64(7)\n",
            "memory usage: 54.1 KB\n"
          ]
        }
      ],
      "source": [
        "# get a quick description of the data, including # of rows, # of features, name of each feature, type of each feature, # of non-null values\n",
        "rawdata.info()"
      ]
    },
    {
      "cell_type": "code",
      "execution_count": 127,
      "metadata": {
        "colab": {
          "base_uri": "https://localhost:8080/",
          "height": 300
        },
        "id": "Zc9KNKFwW-Ew",
        "outputId": "562e9b9b-8788-4914-a980-f01ef83fc534"
      },
      "outputs": [
        {
          "data": {
            "text/html": [
              "<div>\n",
              "<style scoped>\n",
              "    .dataframe tbody tr th:only-of-type {\n",
              "        vertical-align: middle;\n",
              "    }\n",
              "\n",
              "    .dataframe tbody tr th {\n",
              "        vertical-align: top;\n",
              "    }\n",
              "\n",
              "    .dataframe thead th {\n",
              "        text-align: right;\n",
              "    }\n",
              "</style>\n",
              "<table border=\"1\" class=\"dataframe\">\n",
              "  <thead>\n",
              "    <tr style=\"text-align: right;\">\n",
              "      <th></th>\n",
              "      <th>Pregnancies</th>\n",
              "      <th>Glucose</th>\n",
              "      <th>BloodPressure</th>\n",
              "      <th>SkinThickness</th>\n",
              "      <th>Insulin</th>\n",
              "      <th>BMI</th>\n",
              "      <th>DiabetesPedigreeFunction</th>\n",
              "      <th>Age</th>\n",
              "      <th>Outcome</th>\n",
              "    </tr>\n",
              "  </thead>\n",
              "  <tbody>\n",
              "    <tr>\n",
              "      <th>count</th>\n",
              "      <td>768.000000</td>\n",
              "      <td>768.000000</td>\n",
              "      <td>768.000000</td>\n",
              "      <td>768.000000</td>\n",
              "      <td>768.000000</td>\n",
              "      <td>768.000000</td>\n",
              "      <td>768.000000</td>\n",
              "      <td>768.000000</td>\n",
              "      <td>768.000000</td>\n",
              "    </tr>\n",
              "    <tr>\n",
              "      <th>mean</th>\n",
              "      <td>3.845052</td>\n",
              "      <td>120.894531</td>\n",
              "      <td>69.105469</td>\n",
              "      <td>20.536458</td>\n",
              "      <td>79.799479</td>\n",
              "      <td>31.992578</td>\n",
              "      <td>0.471876</td>\n",
              "      <td>33.240885</td>\n",
              "      <td>0.348958</td>\n",
              "    </tr>\n",
              "    <tr>\n",
              "      <th>std</th>\n",
              "      <td>3.369578</td>\n",
              "      <td>31.972618</td>\n",
              "      <td>19.355807</td>\n",
              "      <td>15.952218</td>\n",
              "      <td>115.244002</td>\n",
              "      <td>7.884160</td>\n",
              "      <td>0.331329</td>\n",
              "      <td>11.760232</td>\n",
              "      <td>0.476951</td>\n",
              "    </tr>\n",
              "    <tr>\n",
              "      <th>min</th>\n",
              "      <td>0.000000</td>\n",
              "      <td>0.000000</td>\n",
              "      <td>0.000000</td>\n",
              "      <td>0.000000</td>\n",
              "      <td>0.000000</td>\n",
              "      <td>0.000000</td>\n",
              "      <td>0.078000</td>\n",
              "      <td>21.000000</td>\n",
              "      <td>0.000000</td>\n",
              "    </tr>\n",
              "    <tr>\n",
              "      <th>25%</th>\n",
              "      <td>1.000000</td>\n",
              "      <td>99.000000</td>\n",
              "      <td>62.000000</td>\n",
              "      <td>0.000000</td>\n",
              "      <td>0.000000</td>\n",
              "      <td>27.300000</td>\n",
              "      <td>0.243750</td>\n",
              "      <td>24.000000</td>\n",
              "      <td>0.000000</td>\n",
              "    </tr>\n",
              "    <tr>\n",
              "      <th>50%</th>\n",
              "      <td>3.000000</td>\n",
              "      <td>117.000000</td>\n",
              "      <td>72.000000</td>\n",
              "      <td>23.000000</td>\n",
              "      <td>30.500000</td>\n",
              "      <td>32.000000</td>\n",
              "      <td>0.372500</td>\n",
              "      <td>29.000000</td>\n",
              "      <td>0.000000</td>\n",
              "    </tr>\n",
              "    <tr>\n",
              "      <th>75%</th>\n",
              "      <td>6.000000</td>\n",
              "      <td>140.250000</td>\n",
              "      <td>80.000000</td>\n",
              "      <td>32.000000</td>\n",
              "      <td>127.250000</td>\n",
              "      <td>36.600000</td>\n",
              "      <td>0.626250</td>\n",
              "      <td>41.000000</td>\n",
              "      <td>1.000000</td>\n",
              "    </tr>\n",
              "    <tr>\n",
              "      <th>max</th>\n",
              "      <td>17.000000</td>\n",
              "      <td>199.000000</td>\n",
              "      <td>122.000000</td>\n",
              "      <td>99.000000</td>\n",
              "      <td>846.000000</td>\n",
              "      <td>67.100000</td>\n",
              "      <td>2.420000</td>\n",
              "      <td>81.000000</td>\n",
              "      <td>1.000000</td>\n",
              "    </tr>\n",
              "  </tbody>\n",
              "</table>\n",
              "</div>"
            ],
            "text/plain": [
              "       Pregnancies     Glucose  BloodPressure  SkinThickness     Insulin  \\\n",
              "count   768.000000  768.000000     768.000000     768.000000  768.000000   \n",
              "mean      3.845052  120.894531      69.105469      20.536458   79.799479   \n",
              "std       3.369578   31.972618      19.355807      15.952218  115.244002   \n",
              "min       0.000000    0.000000       0.000000       0.000000    0.000000   \n",
              "25%       1.000000   99.000000      62.000000       0.000000    0.000000   \n",
              "50%       3.000000  117.000000      72.000000      23.000000   30.500000   \n",
              "75%       6.000000  140.250000      80.000000      32.000000  127.250000   \n",
              "max      17.000000  199.000000     122.000000      99.000000  846.000000   \n",
              "\n",
              "              BMI  DiabetesPedigreeFunction         Age     Outcome  \n",
              "count  768.000000                768.000000  768.000000  768.000000  \n",
              "mean    31.992578                  0.471876   33.240885    0.348958  \n",
              "std      7.884160                  0.331329   11.760232    0.476951  \n",
              "min      0.000000                  0.078000   21.000000    0.000000  \n",
              "25%     27.300000                  0.243750   24.000000    0.000000  \n",
              "50%     32.000000                  0.372500   29.000000    0.000000  \n",
              "75%     36.600000                  0.626250   41.000000    1.000000  \n",
              "max     67.100000                  2.420000   81.000000    1.000000  "
            ]
          },
          "execution_count": 127,
          "metadata": {},
          "output_type": "execute_result"
        }
      ],
      "source": [
        "# show a summary of the numerical attributes\n",
        "rawdata.describe()"
      ]
    },
    {
      "cell_type": "markdown",
      "metadata": {
        "id": "vG3znnVYh3Fo"
      },
      "source": [
        "#  Task 1: Preprocess Data"
      ]
    },
    {
      "cell_type": "code",
      "execution_count": 128,
      "metadata": {
        "id": "Ylr3j8GD_Eoq"
      },
      "outputs": [
        {
          "name": "stdout",
          "output_type": "stream",
          "text": [
            "(768, 8)\n",
            "(768,)\n"
          ]
        }
      ],
      "source": [
        "data = rawdata.drop(labels=\"Outcome\", axis=1, inplace=False).astype(float)\n",
        "target = rawdata[\"Outcome\"].copy()\n",
        "\n",
        "print(data.shape)\n",
        "print(target.shape)\n",
        "\n",
        "from sklearn.preprocessing import StandardScaler\n",
        "from sklearn.pipeline import Pipeline\n",
        "num_pipeline = Pipeline([\n",
        "    ('std_scaler', StandardScaler()),\n",
        "])\n",
        "\n",
        "data_preprocessed = num_pipeline.fit_transform(data)\n",
        "# data_preprocessed = rawdata.drop(\"Outcome\", axis=1, inplace=False).astype(float)\n",
        "target_preprocessed = target.values"
      ]
    },
    {
      "cell_type": "markdown",
      "metadata": {
        "id": "qey-gjetiXTI"
      },
      "source": [
        "# Task 2: Split Dataset for Training, Validation, and Testing"
      ]
    },
    {
      "cell_type": "code",
      "execution_count": 129,
      "metadata": {
        "id": "MTgQx-j6_DmL"
      },
      "outputs": [
        {
          "name": "stdout",
          "output_type": "stream",
          "text": [
            "train_data.shape: (460, 8)\n",
            "train_target.shape: (460,)\n",
            "\n",
            "valid_data.shape: (154, 8)\n",
            "valid_target.shape: (154,)\n",
            "\n",
            "test_data.shape: (154, 8)\n",
            "test_target.shape: (154,)\n"
          ]
        }
      ],
      "source": [
        "train_data, valid_data, train_target, valid_target = train_test_split(data_preprocessed, target_preprocessed, test_size = 0.20, random_state = 42)\n",
        "train_data, test_data, train_target, test_target = train_test_split(train_data, train_target, test_size = 0.25, random_state = 42)\n",
        "\n",
        "#print(train_data)\n",
        "print(f\"train_data.shape: {train_data.shape}\")\n",
        "print(f\"train_target.shape: {train_target.shape}\")\n",
        "print()\n",
        "print(f\"valid_data.shape: {valid_data.shape}\")\n",
        "print(f\"valid_target.shape: {valid_target.shape}\")\n",
        "print()\n",
        "print(f\"test_data.shape: {test_data.shape}\")\n",
        "print(f\"test_target.shape: {test_target.shape}\")"
      ]
    },
    {
      "cell_type": "markdown",
      "metadata": {
        "id": "wCRWTAVZivpr"
      },
      "source": [
        "# Task 3: Use Logistic Regression using Scikit-learn"
      ]
    },
    {
      "cell_type": "code",
      "execution_count": 130,
      "metadata": {
        "id": "TrwVtZDY_NNr"
      },
      "outputs": [
        {
          "name": "stdout",
          "output_type": "stream",
          "text": [
            "Coefficients: \n",
            " [[ 0.18573298  0.89248159 -0.36580058  0.1072025  -0.15000066  0.78462133\n",
            "   0.18463707  0.56223892]]\n",
            "Intercept: \n",
            " [-0.87631239]\n",
            "\n",
            "training loss using sklearn - log_loss: 0.48\n",
            "validation loss using sklearn - log_loss: 0.53\n",
            "testing loss using sklearn - log_loss: 0.45\n",
            "0.7792207792207793\n",
            "              precision    recall  f1-score   support\n",
            "\n",
            "           0       0.77      0.94      0.85       101\n",
            "           1       0.81      0.47      0.60        53\n",
            "\n",
            "    accuracy                           0.78       154\n",
            "   macro avg       0.79      0.71      0.72       154\n",
            "weighted avg       0.78      0.78      0.76       154\n",
            "\n"
          ]
        }
      ],
      "source": [
        "\n",
        "from sklearn.linear_model import LogisticRegression\n",
        "\n",
        "lr = LogisticRegression()\n",
        "lr.fit(train_data, train_target)\n",
        "\n",
        "print('Coefficients: \\n', lr.coef_)\n",
        "print('Intercept: \\n', lr.intercept_)\n",
        "print()\n",
        "\n",
        "from sklearn.metrics import log_loss\n",
        "print(\"training loss using sklearn - log_loss: %.2f\" % (log_loss(train_target, lr.predict_proba(train_data))))\n",
        "print(\"validation loss using sklearn - log_loss: %.2f\" % (log_loss(valid_target, lr.predict_proba(valid_data))))\n",
        "print(\"testing loss using sklearn - log_loss: %.2f\" % (log_loss(test_target, lr.predict_proba(test_data))))\n",
        "\n",
        "# Confusion Matrix to evaluate accuracy of classification\n",
        "from sklearn.metrics import confusion_matrix\n",
        "predictions = lr.predict(test_data)\n",
        "confusion_matrix(test_target, predictions)\n",
        "\n",
        "# Accuracy Classification Score\n",
        "from sklearn.metrics import accuracy_score\n",
        "print(accuracy_score(test_target, predictions))\n",
        "\n",
        "# Main Classification Metrics\n",
        "from sklearn.metrics import classification_report\n",
        "print(classification_report(test_target, predictions))\n",
        "\n"
      ]
    },
    {
      "cell_type": "markdown",
      "metadata": {
        "id": "bmikSDMV_Ojg"
      },
      "source": [
        "# Task 4: Implement stochastic gradient descent method to perform logistic regression"
      ]
    },
    {
      "cell_type": "code",
      "execution_count": 155,
      "metadata": {
        "id": "6SYnvOSH_N7X"
      },
      "outputs": [
        {
          "name": "stdout",
          "output_type": "stream",
          "text": [
            "training loss using SGD method: 0.48\n",
            "validation loss using SGD method: 0.50\n",
            "testing loss using SGD method: 0.45\n",
            "Coefficients:\n",
            "[ 0.30741835  0.82529583 -0.21972632  0.02354694 -0.08323414  0.70021655\n",
            "  0.18072911  0.36747862]\n",
            "Intercept:\n",
            "-0.8001614662176874\n",
            "\n"
          ]
        },
        {
          "data": {
            "image/png": "[encoded data removed]",
            "text/plain": [
              "<Figure size 640x480 with 1 Axes>"
            ]
          },
          "metadata": {},
          "output_type": "display_data"
        }
      ],
      "source": [
        "from sklearn.utils import shuffle\n",
        "\n",
        "#Param Setting\n",
        "#np.random.seed(0)  #Seed 0 will give exactly train 0.48, valid 0.51, test 0.45 score\n",
        "epochs = 100\n",
        "batch_size = 23\n",
        "w = np.random.normal(0, 0.5, (train_data.shape[1] + 1))\n",
        "#w = np.zeros(train_data.shape[1])\n",
        "learning_rate = 0.01\n",
        "\n",
        "# Sigmoid = 1 / (1 + e^-z) where z = Xw\n",
        "def sigmoid(X, w):\n",
        "    return 1 / (1 + np.exp(-np.dot(X, w)))\n",
        "\n",
        "#-1/N * Sum [t log(o) + (1-t)log(1-o)]\n",
        "# where o = sigmoid(X, w)\n",
        "def logistic_loss_function(X, w, y):    #test, coeff, true\n",
        "    sigma = sigmoid(X, w)\n",
        "    loss = -np.mean(y * np.log(sigma) + (1 - y) * np.log(1 - sigma))\n",
        "    return loss\n",
        "\n",
        "# Data Handling (Including Intercept, # batches calculation, loss history)\n",
        "train_data_intercept = np.insert(train_data, 0, 1, axis=1)\n",
        "valid_data_intercept = np.insert(valid_data, 0, 1, axis=1)\n",
        "test_data_intercept = np.insert(test_data, 0, 1, axis=1)\n",
        "batches = epochs * ((int)(train_data.shape[0] / batch_size))\n",
        "train_losses = np.zeros((batches, 1))\n",
        "valid_losses = np.zeros((batches, 1))\n",
        "current_batch = 0\n",
        "\n",
        "for i in range(epochs):\n",
        "    rng_train_data, rng_train_target = shuffle(train_data_intercept, train_target)\n",
        "    \n",
        "    for j in range(0, rng_train_data.shape[0], batch_size):\n",
        "        k = j + batch_size\n",
        "        if k > train_data_intercept.shape[0]:\n",
        "            break\n",
        "        batched_train_data = rng_train_data[j:k]\n",
        "        batched_train_target = rng_train_target[j:k]\n",
        "        \n",
        "        # Gradient\n",
        "        # (-1/m)X^T (t-o(Xw))\n",
        "        grad = (-1 / batch_size) * np.dot(batched_train_data.T, (batched_train_target - sigmoid(batched_train_data, w)))\n",
        "        \n",
        "        w = w + learning_rate * (-1 * grad)\n",
        "        #print(grad)\n",
        "        \n",
        "        train_losses[current_batch] = logistic_loss_function(train_data_intercept, w, train_target)\n",
        "        valid_losses[current_batch] = logistic_loss_function(valid_data_intercept, w, valid_target)\n",
        "        current_batch += 1\n",
        "\n",
        "intercept = w[0]\n",
        "coeff = w[1:]\n",
        "\n",
        "print(\"training loss using SGD method: %.2f\" % (logistic_loss_function(train_data_intercept, w, train_target)))\n",
        "print(\"validation loss using SGD method: %.2f\" % (logistic_loss_function(valid_data_intercept, w, valid_target)))\n",
        "print(\"testing loss using SGD method: %.2f\" % (logistic_loss_function(test_data_intercept, w, test_target)))\n",
        "print(\"Coefficients:\")\n",
        "print(coeff)\n",
        "print(\"Intercept:\")\n",
        "print(intercept)\n",
        "\n",
        "plt.plot(np.arange(batches), train_losses, label = \"training_error\")\n",
        "plt.plot(np.arange(batches), valid_losses, label = \"validation_error\")\n",
        "plt.legend(bbox_to_anchor = (0.2, 0.93), ncol = 2)\n",
        "print()\n",
        "\n",
        "# print(np.argmin(valid_losses))\n",
        "# print(np.min(valid_losses))\n"
      ]
    }
  ],
  "metadata": {
    "colab": {
      "provenance": [],
      "toc_visible": true
    },
    "kernelspec": {
      "display_name": "Python 3",
      "name": "python3"
    },
    "language_info": {
      "codemirror_mode": {
        "name": "ipython",
        "version": 3
      },
      "file_extension": ".py",
      "mimetype": "text/x-python",
      "name": "python",
      "nbconvert_exporter": "python",
      "pygments_lexer": "ipython3",
      "version": "3.8.10"
    }
  },
  "nbformat": 4,
  "nbformat_minor": 0
}
