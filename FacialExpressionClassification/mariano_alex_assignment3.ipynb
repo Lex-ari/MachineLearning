{
  "cells": [
    {
      "cell_type": "markdown",
      "metadata": {
        "id": "0A_JriDGhBkF"
      },
      "source": [
        "# Imports"
      ]
    },
    {
      "cell_type": "code",
      "execution_count": 1,
      "metadata": {
        "colab": {
          "base_uri": "https://localhost:8080/"
        },
        "id": "oT7ME9FqVIg_",
        "outputId": "736e8ec6-e47c-4003-f8af-c2aa8f366029"
      },
      "outputs": [],
      "source": [
        "# Module imports\n",
        "from __future__ import print_function\n",
        "from sklearn import preprocessing\n",
        "from sklearn.model_selection import train_test_split\n",
        "import numpy as np\n",
        "import matplotlib.pyplot as plt\n",
        "import pandas as pd\n",
        "from sklearn.preprocessing import StandardScaler\n",
        "from sklearn.pipeline import Pipeline\n",
        "from sklearn.linear_model import LogisticRegression\n",
        "from sklearn.metrics import log_loss\n",
        "from sklearn.metrics import confusion_matrix\n",
        "from sklearn.metrics import accuracy_score\n",
        "from sklearn.metrics import classification_report\n",
        "from sklearn.utils import shuffle\n",
        "%matplotlib inline\n",
        "import torch\n",
        "import torch.nn as nn\n",
        "import torch.optim as optim\n",
        "from torchvision import datasets, transforms\n",
        "from torch.utils.data import Dataset\n",
        "import cv2\n",
        "import os\n",
        "import pickle\n",
        "import numpy as np\n",
        "from PIL import Image\n",
        "import torch.nn.functional as F"
      ]
    },
    {
      "cell_type": "code",
      "execution_count": 2,
      "metadata": {},
      "outputs": [
        {
          "name": "stdout",
          "output_type": "stream",
          "text": [
            "cuda\n"
          ]
        }
      ],
      "source": [
        "device = torch.device(\"cuda\" if torch.cuda.is_available() else \"cpu\")\n",
        "print(device)"
      ]
    },
    {
      "cell_type": "markdown",
      "metadata": {},
      "source": [
        "# Load Data"
      ]
    },
    {
      "cell_type": "code",
      "execution_count": 3,
      "metadata": {
        "id": "ZQ50JDWGVpWt"
      },
      "outputs": [
        {
          "name": "stdout",
          "output_type": "stream",
          "text": [
            "<class 'pandas.core.frame.DataFrame'>\n",
            "RangeIndex: 16174 entries, 0 to 16173\n",
            "Columns: 2304 entries, 146 to 81.32\n",
            "dtypes: int64(2304)\n",
            "memory usage: 284.3 MB\n",
            "<class 'pandas.core.frame.DataFrame'>\n",
            "RangeIndex: 16174 entries, 0 to 16173\n",
            "Data columns (total 1 columns):\n",
            " #   Column  Non-Null Count  Dtype\n",
            "---  ------  --------------  -----\n",
            " 0   1       16174 non-null  int64\n",
            "dtypes: int64(1)\n",
            "memory usage: 126.5 KB\n"
          ]
        },
        {
          "data": {
            "text/html": [
              "<div>\n",
              "<style scoped>\n",
              "    .dataframe tbody tr th:only-of-type {\n",
              "        vertical-align: middle;\n",
              "    }\n",
              "\n",
              "    .dataframe tbody tr th {\n",
              "        vertical-align: top;\n",
              "    }\n",
              "\n",
              "    .dataframe thead th {\n",
              "        text-align: right;\n",
              "    }\n",
              "</style>\n",
              "<table border=\"1\" class=\"dataframe\">\n",
              "  <thead>\n",
              "    <tr style=\"text-align: right;\">\n",
              "      <th></th>\n",
              "      <th>1</th>\n",
              "    </tr>\n",
              "  </thead>\n",
              "  <tbody>\n",
              "    <tr>\n",
              "      <th>count</th>\n",
              "      <td>16174.000000</td>\n",
              "    </tr>\n",
              "    <tr>\n",
              "      <th>mean</th>\n",
              "      <td>1.059973</td>\n",
              "    </tr>\n",
              "    <tr>\n",
              "      <th>std</th>\n",
              "      <td>0.741898</td>\n",
              "    </tr>\n",
              "    <tr>\n",
              "      <th>min</th>\n",
              "      <td>0.000000</td>\n",
              "    </tr>\n",
              "    <tr>\n",
              "      <th>25%</th>\n",
              "      <td>1.000000</td>\n",
              "    </tr>\n",
              "    <tr>\n",
              "      <th>50%</th>\n",
              "      <td>1.000000</td>\n",
              "    </tr>\n",
              "    <tr>\n",
              "      <th>75%</th>\n",
              "      <td>2.000000</td>\n",
              "    </tr>\n",
              "    <tr>\n",
              "      <th>max</th>\n",
              "      <td>2.000000</td>\n",
              "    </tr>\n",
              "  </tbody>\n",
              "</table>\n",
              "</div>"
            ],
            "text/plain": [
              "                  1\n",
              "count  16174.000000\n",
              "mean       1.059973\n",
              "std        0.741898\n",
              "min        0.000000\n",
              "25%        1.000000\n",
              "50%        1.000000\n",
              "75%        2.000000\n",
              "max        2.000000"
            ]
          },
          "execution_count": 3,
          "metadata": {},
          "output_type": "execute_result"
        }
      ],
      "source": [
        "rawdata = pd.read_csv('train_data.csv')\n",
        "# display the top rows\n",
        "rawdata.head(10)\n",
        "# get a quick description of the data, including # of rows, # of features, name of each feature, type of each feature, # of non-null values\n",
        "rawdata.info()\n",
        "# show a summary of the numerical attributes\n",
        "rawdata.describe()\n",
        "\n",
        "rawtargetdata = pd.read_csv('train_target.csv')\n",
        "# display the top rows\n",
        "rawtargetdata.head(10)\n",
        "# get a quick description of the data, including # of rows, # of features, name of each feature, type of each feature, # of non-null values\n",
        "rawtargetdata.info()\n",
        "# show a summary of the numerical attributes\n",
        "rawtargetdata.describe()"
      ]
    },
    {
      "cell_type": "markdown",
      "metadata": {
        "id": "vG3znnVYh3Fo"
      },
      "source": [
        "#  Task 1: Preprocess Data"
      ]
    },
    {
      "cell_type": "code",
      "execution_count": 4,
      "metadata": {
        "id": "Ylr3j8GD_Eoq"
      },
      "outputs": [],
      "source": [
        "# num_pipeline = Pipeline([\n",
        "#     ('std_scaler', StandardScaler()),\n",
        "# ])\n",
        "\n",
        "# data_preprocessed = num_pipeline.fit_transform(rawdata)\n",
        "data_preprocessed = rawdata.to_numpy()\n",
        "targets_preprocessed = rawtargetdata.to_numpy()"
      ]
    },
    {
      "cell_type": "markdown",
      "metadata": {
        "id": "qey-gjetiXTI"
      },
      "source": [
        "# Task 2: Split Dataset for Training, Validation, and Testing"
      ]
    },
    {
      "cell_type": "code",
      "execution_count": 5,
      "metadata": {},
      "outputs": [
        {
          "name": "stdout",
          "output_type": "stream",
          "text": [
            "train_data.shape: (12939, 2304)\n",
            "train_target.shape: (12939, 1)\n",
            "\n",
            "valid_data.shape: (3235, 2304)\n",
            "valid_target.shape: (3235, 1)\n"
          ]
        }
      ],
      "source": [
        "train_data, valid_data, train_target, valid_target = train_test_split(data_preprocessed, targets_preprocessed, test_size = 0.20, random_state = 42)\n",
        "\n",
        "#print(train_data)\n",
        "print(f\"train_data.shape: {train_data.shape}\")\n",
        "print(f\"train_target.shape: {train_target.shape}\")\n",
        "print()\n",
        "print(f\"valid_data.shape: {valid_data.shape}\")\n",
        "print(f\"valid_target.shape: {valid_target.shape}\")"
      ]
    },
    {
      "cell_type": "code",
      "execution_count": 6,
      "metadata": {},
      "outputs": [],
      "source": [
        "class CustomDataset(Dataset):\n",
        "    def __init__(self, train_data, train_target, transform = None, target_transform = None):\n",
        "        super().__init__()\n",
        "        self.transform = transform\n",
        "        self.target_transform = target_transform\n",
        "        self.data = []\n",
        "        self.targets = []\n",
        "        \n",
        "        for image in train_data:\n",
        "            reshaped_array = np.reshape(image, (48, 48))\n",
        "            pil_image = Image.fromarray(np.uint8(reshaped_array))\n",
        "            self.data.append(pil_image)\n",
        "            rotate_pos_10 = pil_image.rotate(10)\n",
        "            self.data.append(rotate_pos_10)\n",
        "            rotate_neg_10 = pil_image.rotate(-10)\n",
        "            self.data.append(rotate_neg_10)\n",
        "            flipped = pil_image.transpose(Image.FLIP_LEFT_RIGHT)\n",
        "            self.data.append(flipped)\n",
        "        for target in train_target:\n",
        "            self.targets.append(target[0])\n",
        "            self.targets.append(target[0])\n",
        "            self.targets.append(target[0])\n",
        "            self.targets.append(target[0])\n",
        "        #self.data = np.vstack(self.data).reshape(-1, 48, 48)\n",
        "        #self.data = self.data.transpose((0, 1, 2))  # convert to Hight by Width by Channel\n",
        "        \n",
        "    def __getitem__(self, idx):\n",
        "        img, target = self.data[idx], self.targets[idx]\n",
        "        if self.transform is not None:\n",
        "            img = self.transform(img)\n",
        "        if self.target_transform is not None:\n",
        "            target = self.target_transform(target)\n",
        "        return img, target\n",
        "\n",
        "    def __len__(self):\n",
        "        return len(self.data)"
      ]
    },
    {
      "cell_type": "code",
      "execution_count": 7,
      "metadata": {},
      "outputs": [],
      "source": [
        "trainingDataset = CustomDataset(train_data, train_target,\n",
        "    transform=transforms.Compose([\n",
        "    transforms.ToTensor(),\n",
        "    transforms.Normalize(0.4915, 0.2470)\n",
        "    ]))\n",
        "validationDataset = CustomDataset(valid_data, valid_target,\n",
        "    transform=transforms.Compose([\n",
        "    transforms.ToTensor(),\n",
        "    transforms.Normalize(0.4915, 0.2470)\n",
        "    ]))\n",
        "\n",
        "# print(trainingDataset.data[0])\n",
        "\n",
        "# image, target = trainingDataset.__getitem__(0)\n",
        "# plt.imshow(image)"
      ]
    },
    {
      "cell_type": "code",
      "execution_count": 8,
      "metadata": {},
      "outputs": [],
      "source": [
        "kwargs = {'num_workers': 1, 'pin_memory': True} if torch.cuda.is_available()else {}\n",
        "\n",
        "train_loader = torch.utils.data.DataLoader(trainingDataset, batch_size=64, shuffle=True,  **kwargs)\n",
        "\n",
        "val_loader = torch.utils.data.DataLoader(validationDataset, batch_size=64,shuffle=False, **kwargs)"
      ]
    },
    {
      "cell_type": "code",
      "execution_count": 9,
      "metadata": {},
      "outputs": [],
      "source": [
        "n_out = 3"
      ]
    },
    {
      "cell_type": "code",
      "execution_count": 12,
      "metadata": {},
      "outputs": [
        {
          "data": {
            "text/plain": [
              "Sequential(\n",
              "  (0): Conv2d(1, 64, kernel_size=(5, 5), stride=(1, 1), padding=(1, 1))\n",
              "  (1): ReLU()\n",
              "  (2): MaxPool2d(kernel_size=2, stride=2, padding=0, dilation=1, ceil_mode=False)\n",
              "  (3): Dropout2d(p=0.4, inplace=False)\n",
              "  (4): Conv2d(64, 32, kernel_size=(3, 3), stride=(1, 1), padding=(1, 1))\n",
              "  (5): ReLU()\n",
              "  (6): MaxPool2d(kernel_size=2, stride=2, padding=0, dilation=1, ceil_mode=False)\n",
              "  (7): Dropout2d(p=0.4, inplace=False)\n",
              "  (8): ReLU()\n",
              "  (9): Dropout2d(p=0.4, inplace=False)\n",
              "  (10): Conv2d(32, 16, kernel_size=(3, 3), stride=(1, 1), padding=(1, 1))\n",
              "  (11): ReLU()\n",
              "  (12): Dropout2d(p=0.4, inplace=False)\n",
              "  (13): Conv2d(16, 8, kernel_size=(3, 3), stride=(1, 1), padding=(1, 1))\n",
              "  (14): ReLU()\n",
              "  (15): Flatten(start_dim=1, end_dim=-1)\n",
              "  (16): Linear(in_features=968, out_features=3, bias=True)\n",
              ")"
            ]
          },
          "execution_count": 12,
          "metadata": {},
          "output_type": "execute_result"
        }
      ],
      "source": [
        "sequential_model = nn.Sequential(\n",
        "            nn.Conv2d(1, 64, kernel_size=5, padding=1),\n",
        "            nn.ReLU(),\n",
        "            #nn.Tanh(),\n",
        "            nn.MaxPool2d(2),\n",
        "            nn.Dropout2d(p=0.4),\n",
        "            nn.Conv2d(64, 32, kernel_size=3, padding=1),\n",
        "            nn.ReLU(),\n",
        "            #nn.Tanh(),\n",
        "            nn.MaxPool2d(2),\n",
        "            nn.Dropout2d(p=0.4),\n",
        "            nn.ReLU(),\n",
        "            #nn.Tanh(),\n",
        "            nn.Dropout2d(p=0.4),\n",
        "            nn.Conv2d(32, 16, kernel_size=3, padding=1),\n",
        "            nn.ReLU(),\n",
        "            nn.Dropout2d(p=0.4),\n",
        "            nn.Conv2d(16, 8, kernel_size=3, padding=1),\n",
        "            nn.ReLU(),\n",
        "            nn.Flatten(), \n",
        "            nn.Linear(968, n_out)\n",
        ")\n",
        "\n",
        "model = sequential_model\n",
        "\n",
        "model.to(device)"
      ]
    },
    {
      "cell_type": "code",
      "execution_count": 16,
      "metadata": {},
      "outputs": [
        {
          "name": "stdout",
          "output_type": "stream",
          "text": [
            "Epoch: 0, train_loss: 0.584603, val_loss: 0.736910, val_accuracy: 0.739645, best_score: 0.739645\n",
            "Epoch: 1, train_loss: 0.692577, val_loss: 0.666110, val_accuracy: 0.743277, best_score: 0.743277\n",
            "Epoch: 2, train_loss: 0.714873, val_loss: 0.661147, val_accuracy: 0.738253, best_score: 0.743277\n",
            "Epoch: 3, train_loss: 0.604486, val_loss: 0.639146, val_accuracy: 0.745518, best_score: 0.745518\n",
            "Epoch: 4, train_loss: 0.702947, val_loss: 0.713139, val_accuracy: 0.744204, best_score: 0.745518\n"
          ]
        },
        {
          "ename": "KeyboardInterrupt",
          "evalue": "",
          "output_type": "error",
          "traceback": [
            "\u001b[0;31m---------------------------------------------------------------------------\u001b[0m",
            "\u001b[0;31mKeyboardInterrupt\u001b[0m                         Traceback (most recent call last)",
            "\u001b[1;32m/home/xf104starfighter/MachineLearning/FacialExpressionClassification/mariano_alex_assignment3.ipynb Cell 15\u001b[0m line \u001b[0;36m1\n\u001b[1;32m     <a href='vscode-notebook-cell:/home/xf104starfighter/MachineLearning/FacialExpressionClassification/mariano_alex_assignment3.ipynb#X34sZmlsZQ%3D%3D?line=11'>12</a>\u001b[0m model\u001b[39m.\u001b[39mtrain(\u001b[39mTrue\u001b[39;00m)\n\u001b[1;32m     <a href='vscode-notebook-cell:/home/xf104starfighter/MachineLearning/FacialExpressionClassification/mariano_alex_assignment3.ipynb#X34sZmlsZQ%3D%3D?line=12'>13</a>\u001b[0m \u001b[39mfor\u001b[39;00m imgs, labels \u001b[39min\u001b[39;00m train_loader:\n\u001b[0;32m---> <a href='vscode-notebook-cell:/home/xf104starfighter/MachineLearning/FacialExpressionClassification/mariano_alex_assignment3.ipynb#X34sZmlsZQ%3D%3D?line=13'>14</a>\u001b[0m     imgs, labels \u001b[39m=\u001b[39m imgs\u001b[39m.\u001b[39;49mto(device), labels\u001b[39m.\u001b[39mto(device)\n\u001b[1;32m     <a href='vscode-notebook-cell:/home/xf104starfighter/MachineLearning/FacialExpressionClassification/mariano_alex_assignment3.ipynb#X34sZmlsZQ%3D%3D?line=14'>15</a>\u001b[0m     \u001b[39m#print(labels)\u001b[39;00m\n\u001b[1;32m     <a href='vscode-notebook-cell:/home/xf104starfighter/MachineLearning/FacialExpressionClassification/mariano_alex_assignment3.ipynb#X34sZmlsZQ%3D%3D?line=16'>17</a>\u001b[0m     outputs \u001b[39m=\u001b[39m model(imgs)   \u001b[39m# important:  nn.Conv2d expects a B × C × H × W shaped tensor as input\u001b[39;00m\n",
            "\u001b[0;31mKeyboardInterrupt\u001b[0m: "
          ]
        }
      ],
      "source": [
        "learning_rate = 1e-2\n",
        "\n",
        "optimizer = optim.SGD(model.parameters(), lr=learning_rate)\n",
        "\n",
        "loss_fn = nn.CrossEntropyLoss()\n",
        "\n",
        "n_epochs = 100\n",
        "best_score = 0\n",
        "model.load_state_dict(torch.load('best-model-paramteres.pt'))\n",
        "\n",
        "for epoch in range(n_epochs):\n",
        "    model.train(True)\n",
        "    for imgs, labels in train_loader:\n",
        "        imgs, labels = imgs.to(device), labels.to(device)\n",
        "        #print(labels)\n",
        "        \n",
        "        outputs = model(imgs)   # important:  nn.Conv2d expects a B × C × H × W shaped tensor as input\n",
        "        train_loss = loss_fn(outputs, labels)\n",
        "  \n",
        "        optimizer.zero_grad()\n",
        "        train_loss.backward()\n",
        "        optimizer.step()\n",
        "    \n",
        "    model.eval()\n",
        "    \n",
        "    correct = 0\n",
        "    total = 0\n",
        "    with torch.no_grad():\n",
        "        for imgs, labels in val_loader:\n",
        "            imgs, labels = imgs.to(device), labels.to(device)\n",
        "            \n",
        "            outputs = model(imgs)\n",
        "            val_loss = loss_fn(outputs, labels)\n",
        "            \n",
        "            _, predicted = torch.max(outputs, dim=1)\n",
        "            #print(predicted)\n",
        "            total += labels.shape[0]\n",
        "            correct += int((predicted == labels).sum())\n",
        "    val_accuracy = correct / total\n",
        "    if val_accuracy > best_score:\n",
        "        torch.save(model.state_dict(), 'best-model-paramteres.pt')\n",
        "        best_score = val_accuracy\n",
        "    print(\"Epoch: %d, train_loss: %f, val_loss: %f, val_accuracy: %f, best_score: %f\" % (epoch, float(train_loss), float(val_loss), val_accuracy, best_score))"
      ]
    },
    {
      "cell_type": "code",
      "execution_count": null,
      "metadata": {},
      "outputs": [],
      "source": [
        "model.load_state_dict(torch.load('best-model-paramteres.pt'))\n",
        "with torch.no_grad():\n",
        "    model.train(False)\n",
        "    for imgs, labels in val_loader:\n",
        "        imgs, labels = imgs.to(device), labels.to(device)\n",
        "        \n",
        "        outputs = model(imgs)\n",
        "        val_loss = loss_fn(outputs, labels)\n",
        "        \n",
        "        _, predicted = torch.max(outputs, dim=1)\n",
        "        total += labels.shape[0]\n",
        "        correct += int((predicted == labels).sum())\n",
        "    val_accuracy = correct / total\n",
        "    if val_accuracy > best_score:\n",
        "        torch.save(model.state_dict(), 'best-model-paramteres.pt')\n",
        "        best_score = val_accuracy\n",
        "    print(\"Epoch: %d, train_loss: %f, val_loss: %f, val_accuracy: %f, best_score: %f\" % (epoch, float(train_loss), float(val_loss), val_accuracy, best_score))\n",
        "    \n",
        "torch.cuda.empty_cache()\n",
        "test_data = pd.read_csv('test_data.csv')\n",
        "processed_test_data = test_data.to_numpy()\n",
        "processed_test_dataset = CustomDataset(processed_test_data, train_target,\n",
        "    transform=transforms.Compose([\n",
        "    transforms.ToTensor(),\n",
        "    transforms.Normalize(0.4915, 0.2470)\n",
        "    ]))\n",
        "processed_test_data_loader = torch.utils.data.DataLoader(processed_test_dataset, batch_size=1, shuffle=False,  **kwargs)\n",
        "output_list = np.zeros(processed_test_dataset.__len__())\n",
        "iter = 0\n",
        "for test_img, labels in processed_test_data_loader:\n",
        "    test_img = test_img.to(device)\n",
        "    output = model(test_img)\n",
        "    _, predicted = torch.max(outputs, dim=1)\n",
        "    print(predicted)\n",
        "    output_list[iter] = predicted\n",
        "    iter += 1\n",
        "output_dataframe = pd.DataFrame(output_list)\n",
        "\n"
      ]
    }
  ],
  "metadata": {
    "colab": {
      "provenance": [],
      "toc_visible": true
    },
    "kernelspec": {
      "display_name": "Python 3",
      "name": "python3"
    },
    "language_info": {
      "codemirror_mode": {
        "name": "ipython",
        "version": 3
      },
      "file_extension": ".py",
      "mimetype": "text/x-python",
      "name": "python",
      "nbconvert_exporter": "python",
      "pygments_lexer": "ipython3",
      "version": "3.8.10"
    }
  },
  "nbformat": 4,
  "nbformat_minor": 0
}
