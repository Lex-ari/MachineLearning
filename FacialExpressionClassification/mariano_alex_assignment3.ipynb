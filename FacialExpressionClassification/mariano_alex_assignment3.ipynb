{
  "cells": [
    {
      "cell_type": "markdown",
      "metadata": {
        "id": "0A_JriDGhBkF"
      },
      "source": [
        "# Imports"
      ]
    },
    {
      "cell_type": "code",
      "execution_count": 51,
      "metadata": {
        "colab": {
          "base_uri": "https://localhost:8080/"
        },
        "id": "oT7ME9FqVIg_",
        "outputId": "736e8ec6-e47c-4003-f8af-c2aa8f366029"
      },
      "outputs": [],
      "source": [
        "# Module imports\n",
        "from __future__ import print_function\n",
        "from sklearn import preprocessing\n",
        "from sklearn.model_selection import train_test_split\n",
        "import numpy as np\n",
        "import matplotlib.pyplot as plt\n",
        "import pandas as pd\n",
        "from sklearn.preprocessing import StandardScaler\n",
        "from sklearn.pipeline import Pipeline\n",
        "from sklearn.linear_model import LogisticRegression\n",
        "from sklearn.metrics import log_loss\n",
        "from sklearn.metrics import confusion_matrix\n",
        "from sklearn.metrics import accuracy_score\n",
        "from sklearn.metrics import classification_report\n",
        "from sklearn.utils import shuffle\n",
        "%matplotlib inline\n",
        "import torch\n",
        "import torch.nn as nn\n",
        "import torch.optim as optim\n",
        "from torchvision import datasets, transforms\n",
        "from torch.utils.data import Dataset\n",
        "import cv2\n",
        "import os\n",
        "import pickle\n",
        "import numpy as np\n",
        "from PIL import Image"
      ]
    },
    {
      "cell_type": "code",
      "execution_count": 52,
      "metadata": {},
      "outputs": [
        {
          "name": "stdout",
          "output_type": "stream",
          "text": [
            "cuda\n"
          ]
        }
      ],
      "source": [
        "device = torch.device(\"cuda\" if torch.cuda.is_available() else \"cpu\")\n",
        "print(device)"
      ]
    },
    {
      "cell_type": "markdown",
      "metadata": {},
      "source": [
        "# Load Data"
      ]
    },
    {
      "cell_type": "code",
      "execution_count": 53,
      "metadata": {
        "id": "ZQ50JDWGVpWt"
      },
      "outputs": [
        {
          "name": "stdout",
          "output_type": "stream",
          "text": [
            "<class 'pandas.core.frame.DataFrame'>\n",
            "RangeIndex: 16174 entries, 0 to 16173\n",
            "Columns: 2304 entries, 146 to 81.32\n",
            "dtypes: int64(2304)\n",
            "memory usage: 284.3 MB\n",
            "<class 'pandas.core.frame.DataFrame'>\n",
            "RangeIndex: 16174 entries, 0 to 16173\n",
            "Data columns (total 1 columns):\n",
            " #   Column  Non-Null Count  Dtype\n",
            "---  ------  --------------  -----\n",
            " 0   1       16174 non-null  int64\n",
            "dtypes: int64(1)\n",
            "memory usage: 126.5 KB\n"
          ]
        },
        {
          "data": {
            "text/html": [
              "<div>\n",
              "<style scoped>\n",
              "    .dataframe tbody tr th:only-of-type {\n",
              "        vertical-align: middle;\n",
              "    }\n",
              "\n",
              "    .dataframe tbody tr th {\n",
              "        vertical-align: top;\n",
              "    }\n",
              "\n",
              "    .dataframe thead th {\n",
              "        text-align: right;\n",
              "    }\n",
              "</style>\n",
              "<table border=\"1\" class=\"dataframe\">\n",
              "  <thead>\n",
              "    <tr style=\"text-align: right;\">\n",
              "      <th></th>\n",
              "      <th>1</th>\n",
              "    </tr>\n",
              "  </thead>\n",
              "  <tbody>\n",
              "    <tr>\n",
              "      <th>count</th>\n",
              "      <td>16174.000000</td>\n",
              "    </tr>\n",
              "    <tr>\n",
              "      <th>mean</th>\n",
              "      <td>1.059973</td>\n",
              "    </tr>\n",
              "    <tr>\n",
              "      <th>std</th>\n",
              "      <td>0.741898</td>\n",
              "    </tr>\n",
              "    <tr>\n",
              "      <th>min</th>\n",
              "      <td>0.000000</td>\n",
              "    </tr>\n",
              "    <tr>\n",
              "      <th>25%</th>\n",
              "      <td>1.000000</td>\n",
              "    </tr>\n",
              "    <tr>\n",
              "      <th>50%</th>\n",
              "      <td>1.000000</td>\n",
              "    </tr>\n",
              "    <tr>\n",
              "      <th>75%</th>\n",
              "      <td>2.000000</td>\n",
              "    </tr>\n",
              "    <tr>\n",
              "      <th>max</th>\n",
              "      <td>2.000000</td>\n",
              "    </tr>\n",
              "  </tbody>\n",
              "</table>\n",
              "</div>"
            ],
            "text/plain": [
              "                  1\n",
              "count  16174.000000\n",
              "mean       1.059973\n",
              "std        0.741898\n",
              "min        0.000000\n",
              "25%        1.000000\n",
              "50%        1.000000\n",
              "75%        2.000000\n",
              "max        2.000000"
            ]
          },
          "execution_count": 53,
          "metadata": {},
          "output_type": "execute_result"
        }
      ],
      "source": [
        "rawdata = pd.read_csv('train_data.csv')\n",
        "# display the top rows\n",
        "rawdata.head(10)\n",
        "# get a quick description of the data, including # of rows, # of features, name of each feature, type of each feature, # of non-null values\n",
        "rawdata.info()\n",
        "# show a summary of the numerical attributes\n",
        "rawdata.describe()\n",
        "\n",
        "rawtargetdata = pd.read_csv('train_target.csv')\n",
        "# display the top rows\n",
        "rawtargetdata.head(10)\n",
        "# get a quick description of the data, including # of rows, # of features, name of each feature, type of each feature, # of non-null values\n",
        "rawtargetdata.info()\n",
        "# show a summary of the numerical attributes\n",
        "rawtargetdata.describe()"
      ]
    },
    {
      "cell_type": "markdown",
      "metadata": {
        "id": "vG3znnVYh3Fo"
      },
      "source": [
        "#  Task 1: Preprocess Data"
      ]
    },
    {
      "cell_type": "code",
      "execution_count": 54,
      "metadata": {
        "id": "Ylr3j8GD_Eoq"
      },
      "outputs": [],
      "source": [
        "# num_pipeline = Pipeline([\n",
        "#     ('std_scaler', StandardScaler()),\n",
        "# ])\n",
        "\n",
        "# data_preprocessed = num_pipeline.fit_transform(rawdata)\n",
        "data_preprocessed = rawdata.to_numpy()\n",
        "targets_preprocessed = rawtargetdata.to_numpy()"
      ]
    },
    {
      "cell_type": "markdown",
      "metadata": {
        "id": "qey-gjetiXTI"
      },
      "source": [
        "# Task 2: Split Dataset for Training, Validation, and Testing"
      ]
    },
    {
      "cell_type": "code",
      "execution_count": 55,
      "metadata": {},
      "outputs": [
        {
          "name": "stdout",
          "output_type": "stream",
          "text": [
            "train_data.shape: (12939, 2304)\n",
            "train_target.shape: (12939, 1)\n",
            "\n",
            "valid_data.shape: (3235, 2304)\n",
            "valid_target.shape: (3235, 1)\n"
          ]
        }
      ],
      "source": [
        "train_data, valid_data, train_target, valid_target = train_test_split(data_preprocessed, targets_preprocessed, test_size = 0.20, random_state = 42)\n",
        "\n",
        "#print(train_data)\n",
        "print(f\"train_data.shape: {train_data.shape}\")\n",
        "print(f\"train_target.shape: {train_target.shape}\")\n",
        "print()\n",
        "print(f\"valid_data.shape: {valid_data.shape}\")\n",
        "print(f\"valid_target.shape: {valid_target.shape}\")"
      ]
    },
    {
      "cell_type": "code",
      "execution_count": 56,
      "metadata": {},
      "outputs": [],
      "source": [
        "class CustomDataset(Dataset):\n",
        "    def __init__(self, train_data, train_target, transform = None, target_transform = None):\n",
        "        super().__init__()\n",
        "        self.transform = transform\n",
        "        self.target_transform = target_transform\n",
        "        self.data = []\n",
        "        self.targets = []\n",
        "        \n",
        "        for image in train_data:\n",
        "            reshaped_array = np.reshape(image, (48, 48))\n",
        "            pil_image = Image.fromarray(np.uint8(reshaped_array))\n",
        "            self.data.append(pil_image)\n",
        "            rotate_pos_10 = pil_image.rotate(10)\n",
        "            self.data.append(rotate_pos_10)\n",
        "            rotate_neg_10 = pil_image.rotate(-10)\n",
        "            self.data.append(rotate_neg_10)\n",
        "            flipped = pil_image.transpose(Image.FLIP_LEFT_RIGHT)\n",
        "            self.data.append(flipped)\n",
        "        for target in train_target:\n",
        "            self.targets.append(target[0])\n",
        "            self.targets.append(target[0])\n",
        "            self.targets.append(target[0])\n",
        "            self.targets.append(target[0])\n",
        "        #self.data = np.vstack(self.data).reshape(-1, 48, 48)\n",
        "        #self.data = self.data.transpose((0, 1, 2))  # convert to Hight by Width by Channel\n",
        "        \n",
        "    def __getitem__(self, idx):\n",
        "        img, target = self.data[idx], self.targets[idx]\n",
        "        if self.transform is not None:\n",
        "            img = self.transform(img)\n",
        "        if self.target_transform is not None:\n",
        "            target = self.target_transform(target)\n",
        "        return img, target\n",
        "\n",
        "    def __len__(self):\n",
        "        return len(self.data)"
      ]
    },
    {
      "cell_type": "code",
      "execution_count": 57,
      "metadata": {},
      "outputs": [],
      "source": [
        "trainingDataset = CustomDataset(train_data, train_target,\n",
        "    transform=transforms.Compose([\n",
        "    transforms.ToTensor(),\n",
        "    transforms.Normalize(0.4915, 0.2470)\n",
        "    ]))\n",
        "validationDataset = CustomDataset(valid_data, valid_target,\n",
        "    transform=transforms.Compose([\n",
        "    transforms.ToTensor(),\n",
        "    transforms.Normalize(0.4915, 0.2470)\n",
        "    ]))\n",
        "\n",
        "# print(trainingDataset.data[0])\n",
        "\n",
        "# image, target = trainingDataset.__getitem__(0)\n",
        "# plt.imshow(image)"
      ]
    },
    {
      "cell_type": "code",
      "execution_count": 58,
      "metadata": {},
      "outputs": [],
      "source": [
        "kwargs = {'num_workers': 1, 'pin_memory': True} if torch.cuda.is_available()else {}\n",
        "\n",
        "train_loader = torch.utils.data.DataLoader(trainingDataset, batch_size=64, shuffle=True,  **kwargs)\n",
        "\n",
        "val_loader = torch.utils.data.DataLoader(validationDataset, batch_size=64,shuffle=False, **kwargs)"
      ]
    },
    {
      "cell_type": "code",
      "execution_count": 59,
      "metadata": {},
      "outputs": [],
      "source": [
        "n_out = 3"
      ]
    },
    {
      "cell_type": "code",
      "execution_count": 66,
      "metadata": {},
      "outputs": [
        {
          "data": {
            "text/plain": [
              "Sequential(\n",
              "  (0): Conv2d(1, 64, kernel_size=(3, 3), stride=(1, 1), padding=(1, 1))\n",
              "  (1): ReLU()\n",
              "  (2): Tanh()\n",
              "  (3): MaxPool2d(kernel_size=2, stride=2, padding=0, dilation=1, ceil_mode=False)\n",
              "  (4): Conv2d(64, 64, kernel_size=(3, 3), stride=(1, 1), padding=(1, 1))\n",
              "  (5): ReLU()\n",
              "  (6): Tanh()\n",
              "  (7): MaxPool2d(kernel_size=2, stride=2, padding=0, dilation=1, ceil_mode=False)\n",
              "  (8): Flatten(start_dim=1, end_dim=-1)\n",
              "  (9): Linear(in_features=9216, out_features=64, bias=True)\n",
              "  (10): ReLU()\n",
              "  (11): Tanh()\n",
              "  (12): Linear(in_features=64, out_features=3, bias=True)\n",
              ")"
            ]
          },
          "execution_count": 66,
          "metadata": {},
          "output_type": "execute_result"
        }
      ],
      "source": [
        "model = nn.Sequential(\n",
        "            nn.Conv2d(1, 64, kernel_size=3, padding=1),\n",
        "            nn.ReLU(),\n",
        "            #nn.Tanh(),\n",
        "            nn.MaxPool2d(2),\n",
        "            nn.Conv2d(64, 64, kernel_size=3, padding=1),\n",
        "            nn.ReLU(),\n",
        "            #nn.Tanh(),\n",
        "            nn.MaxPool2d(2),\n",
        "            nn.Flatten(), \n",
        "            nn.Linear(9216, 64),\n",
        "            nn.ReLU(),\n",
        "            #nn.Tanh(),\n",
        "            nn.Linear(64, n_out)\n",
        ")\n",
        "\n",
        "model.to(device)"
      ]
    },
    {
      "cell_type": "code",
      "execution_count": 67,
      "metadata": {},
      "outputs": [
        {
          "name": "stdout",
          "output_type": "stream",
          "text": [
            "Epoch: 0, train_loss: 1.023329, val_loss: 1.326917, val_accuracy: 0.471561\n",
            "Epoch: 1, train_loss: 1.024717, val_loss: 0.983803, val_accuracy: 0.590958\n",
            "Epoch: 2, train_loss: 0.714025, val_loss: 0.975966, val_accuracy: 0.607960\n",
            "Epoch: 3, train_loss: 0.607454, val_loss: 0.894923, val_accuracy: 0.617620\n",
            "Epoch: 4, train_loss: 0.886874, val_loss: 0.782928, val_accuracy: 0.656569\n",
            "Epoch: 5, train_loss: 0.724836, val_loss: 0.776807, val_accuracy: 0.661051\n",
            "Epoch: 6, train_loss: 0.598944, val_loss: 0.761510, val_accuracy: 0.676507\n",
            "Epoch: 7, train_loss: 0.730159, val_loss: 0.744661, val_accuracy: 0.689876\n",
            "Epoch: 8, train_loss: 0.597894, val_loss: 0.977468, val_accuracy: 0.685162\n",
            "Epoch: 9, train_loss: 0.597456, val_loss: 0.755787, val_accuracy: 0.698223\n",
            "Epoch: 10, train_loss: 0.476147, val_loss: 0.692052, val_accuracy: 0.696445\n",
            "Epoch: 11, train_loss: 0.722270, val_loss: 0.656553, val_accuracy: 0.709583\n",
            "Epoch: 12, train_loss: 0.543271, val_loss: 0.649216, val_accuracy: 0.715456\n",
            "Epoch: 13, train_loss: 0.740360, val_loss: 0.594606, val_accuracy: 0.716229\n",
            "Epoch: 14, train_loss: 0.461919, val_loss: 0.592774, val_accuracy: 0.720788\n",
            "Epoch: 15, train_loss: 0.463304, val_loss: 0.649635, val_accuracy: 0.720634\n",
            "Epoch: 16, train_loss: 0.631133, val_loss: 0.796034, val_accuracy: 0.688331\n",
            "Epoch: 17, train_loss: 0.581764, val_loss: 0.670557, val_accuracy: 0.723029\n",
            "Epoch: 18, train_loss: 0.361223, val_loss: 0.810599, val_accuracy: 0.724111\n",
            "Epoch: 19, train_loss: 0.405322, val_loss: 0.729601, val_accuracy: 0.717620\n",
            "Epoch: 20, train_loss: 0.361365, val_loss: 0.456564, val_accuracy: 0.719938\n",
            "Epoch: 21, train_loss: 0.466119, val_loss: 0.914129, val_accuracy: 0.719011\n",
            "Epoch: 22, train_loss: 0.492735, val_loss: 0.752631, val_accuracy: 0.729521\n",
            "Epoch: 23, train_loss: 0.765989, val_loss: 0.591260, val_accuracy: 0.706337\n",
            "Epoch: 24, train_loss: 0.364577, val_loss: 0.750328, val_accuracy: 0.737558\n",
            "Epoch: 25, train_loss: 0.198491, val_loss: 0.675488, val_accuracy: 0.738099\n",
            "Epoch: 26, train_loss: 0.112031, val_loss: 0.631525, val_accuracy: 0.738872\n",
            "Epoch: 27, train_loss: 0.370853, val_loss: 0.620831, val_accuracy: 0.711128\n",
            "Epoch: 28, train_loss: 0.330784, val_loss: 0.685393, val_accuracy: 0.734235\n",
            "Epoch: 29, train_loss: 0.292939, val_loss: 0.633625, val_accuracy: 0.728053\n",
            "Epoch: 30, train_loss: 0.271364, val_loss: 0.700254, val_accuracy: 0.738485\n",
            "Epoch: 31, train_loss: 0.218920, val_loss: 0.724895, val_accuracy: 0.743354\n",
            "Epoch: 32, train_loss: 0.083576, val_loss: 1.033042, val_accuracy: 0.728903\n",
            "Epoch: 33, train_loss: 0.194680, val_loss: 0.794258, val_accuracy: 0.738949\n",
            "Epoch: 34, train_loss: 0.207252, val_loss: 0.825685, val_accuracy: 0.741499\n",
            "Epoch: 35, train_loss: 0.280435, val_loss: 0.620190, val_accuracy: 0.695131\n",
            "Epoch: 36, train_loss: 0.184703, val_loss: 0.999832, val_accuracy: 0.743199\n",
            "Epoch: 37, train_loss: 0.171243, val_loss: 1.081125, val_accuracy: 0.733694\n",
            "Epoch: 38, train_loss: 0.217918, val_loss: 0.683109, val_accuracy: 0.727202\n",
            "Epoch: 39, train_loss: 0.145162, val_loss: 0.901840, val_accuracy: 0.737944\n",
            "Epoch: 40, train_loss: 0.141070, val_loss: 0.890439, val_accuracy: 0.739335\n",
            "Epoch: 41, train_loss: 0.151464, val_loss: 1.026837, val_accuracy: 0.732767\n",
            "Epoch: 42, train_loss: 0.162944, val_loss: 0.912248, val_accuracy: 0.737249\n",
            "Epoch: 43, train_loss: 0.095793, val_loss: 1.014972, val_accuracy: 0.732767\n",
            "Epoch: 44, train_loss: 0.063878, val_loss: 0.911911, val_accuracy: 0.741267\n",
            "Epoch: 45, train_loss: 0.123886, val_loss: 0.916555, val_accuracy: 0.735162\n",
            "Epoch: 46, train_loss: 0.073294, val_loss: 0.811024, val_accuracy: 0.737713\n",
            "Epoch: 47, train_loss: 0.109715, val_loss: 1.174737, val_accuracy: 0.737635\n",
            "Epoch: 48, train_loss: 0.086675, val_loss: 1.168312, val_accuracy: 0.738408\n",
            "Epoch: 49, train_loss: 0.060766, val_loss: 1.101882, val_accuracy: 0.741113\n",
            "Epoch: 50, train_loss: 0.078343, val_loss: 1.239101, val_accuracy: 0.742658\n",
            "Epoch: 51, train_loss: 0.095825, val_loss: 1.226703, val_accuracy: 0.738176\n",
            "Epoch: 52, train_loss: 0.036925, val_loss: 1.371541, val_accuracy: 0.740031\n",
            "Epoch: 53, train_loss: 0.063839, val_loss: 1.209057, val_accuracy: 0.736553\n",
            "Epoch: 54, train_loss: 0.072104, val_loss: 1.203115, val_accuracy: 0.739799\n",
            "Epoch: 55, train_loss: 0.027649, val_loss: 1.170875, val_accuracy: 0.740726\n"
          ]
        },
        {
          "ename": "KeyboardInterrupt",
          "evalue": "",
          "output_type": "error",
          "traceback": [
            "\u001b[0;31m---------------------------------------------------------------------------\u001b[0m",
            "\u001b[0;31mKeyboardInterrupt\u001b[0m                         Traceback (most recent call last)",
            "\u001b[1;32m/home/oreomilkshake/HW/MachineLearning/FacialExpressionClassification/mariano_alex_assignment3.ipynb Cell 15\u001b[0m line \u001b[0;36m1\n\u001b[1;32m      <a href='vscode-notebook-cell:/home/oreomilkshake/HW/MachineLearning/FacialExpressionClassification/mariano_alex_assignment3.ipynb#X20sZmlsZQ%3D%3D?line=8'>9</a>\u001b[0m \u001b[39mfor\u001b[39;00m epoch \u001b[39min\u001b[39;00m \u001b[39mrange\u001b[39m(n_epochs):\n\u001b[1;32m     <a href='vscode-notebook-cell:/home/oreomilkshake/HW/MachineLearning/FacialExpressionClassification/mariano_alex_assignment3.ipynb#X20sZmlsZQ%3D%3D?line=9'>10</a>\u001b[0m     model\u001b[39m.\u001b[39mtrain(\u001b[39mTrue\u001b[39;00m)\n\u001b[0;32m---> <a href='vscode-notebook-cell:/home/oreomilkshake/HW/MachineLearning/FacialExpressionClassification/mariano_alex_assignment3.ipynb#X20sZmlsZQ%3D%3D?line=10'>11</a>\u001b[0m     \u001b[39mfor\u001b[39;00m imgs, labels \u001b[39min\u001b[39;00m train_loader:\n\u001b[1;32m     <a href='vscode-notebook-cell:/home/oreomilkshake/HW/MachineLearning/FacialExpressionClassification/mariano_alex_assignment3.ipynb#X20sZmlsZQ%3D%3D?line=11'>12</a>\u001b[0m         imgs, labels \u001b[39m=\u001b[39m imgs\u001b[39m.\u001b[39mto(device), labels\u001b[39m.\u001b[39mto(device)\n\u001b[1;32m     <a href='vscode-notebook-cell:/home/oreomilkshake/HW/MachineLearning/FacialExpressionClassification/mariano_alex_assignment3.ipynb#X20sZmlsZQ%3D%3D?line=12'>13</a>\u001b[0m         \u001b[39m#print(labels)\u001b[39;00m\n",
            "File \u001b[0;32m~/.local/lib/python3.8/site-packages/torch/utils/data/dataloader.py:630\u001b[0m, in \u001b[0;36m_BaseDataLoaderIter.__next__\u001b[0;34m(self)\u001b[0m\n\u001b[1;32m    627\u001b[0m \u001b[39mif\u001b[39;00m \u001b[39mself\u001b[39m\u001b[39m.\u001b[39m_sampler_iter \u001b[39mis\u001b[39;00m \u001b[39mNone\u001b[39;00m:\n\u001b[1;32m    628\u001b[0m     \u001b[39m# TODO(https://github.com/pytorch/pytorch/issues/76750)\u001b[39;00m\n\u001b[1;32m    629\u001b[0m     \u001b[39mself\u001b[39m\u001b[39m.\u001b[39m_reset()  \u001b[39m# type: ignore[call-arg]\u001b[39;00m\n\u001b[0;32m--> 630\u001b[0m data \u001b[39m=\u001b[39m \u001b[39mself\u001b[39;49m\u001b[39m.\u001b[39;49m_next_data()\n\u001b[1;32m    631\u001b[0m \u001b[39mself\u001b[39m\u001b[39m.\u001b[39m_num_yielded \u001b[39m+\u001b[39m\u001b[39m=\u001b[39m \u001b[39m1\u001b[39m\n\u001b[1;32m    632\u001b[0m \u001b[39mif\u001b[39;00m \u001b[39mself\u001b[39m\u001b[39m.\u001b[39m_dataset_kind \u001b[39m==\u001b[39m _DatasetKind\u001b[39m.\u001b[39mIterable \u001b[39mand\u001b[39;00m \\\n\u001b[1;32m    633\u001b[0m         \u001b[39mself\u001b[39m\u001b[39m.\u001b[39m_IterableDataset_len_called \u001b[39mis\u001b[39;00m \u001b[39mnot\u001b[39;00m \u001b[39mNone\u001b[39;00m \u001b[39mand\u001b[39;00m \\\n\u001b[1;32m    634\u001b[0m         \u001b[39mself\u001b[39m\u001b[39m.\u001b[39m_num_yielded \u001b[39m>\u001b[39m \u001b[39mself\u001b[39m\u001b[39m.\u001b[39m_IterableDataset_len_called:\n",
            "File \u001b[0;32m~/.local/lib/python3.8/site-packages/torch/utils/data/dataloader.py:1328\u001b[0m, in \u001b[0;36m_MultiProcessingDataLoaderIter._next_data\u001b[0;34m(self)\u001b[0m\n\u001b[1;32m   1325\u001b[0m     \u001b[39mreturn\u001b[39;00m \u001b[39mself\u001b[39m\u001b[39m.\u001b[39m_process_data(data)\n\u001b[1;32m   1327\u001b[0m \u001b[39massert\u001b[39;00m \u001b[39mnot\u001b[39;00m \u001b[39mself\u001b[39m\u001b[39m.\u001b[39m_shutdown \u001b[39mand\u001b[39;00m \u001b[39mself\u001b[39m\u001b[39m.\u001b[39m_tasks_outstanding \u001b[39m>\u001b[39m \u001b[39m0\u001b[39m\n\u001b[0;32m-> 1328\u001b[0m idx, data \u001b[39m=\u001b[39m \u001b[39mself\u001b[39;49m\u001b[39m.\u001b[39;49m_get_data()\n\u001b[1;32m   1329\u001b[0m \u001b[39mself\u001b[39m\u001b[39m.\u001b[39m_tasks_outstanding \u001b[39m-\u001b[39m\u001b[39m=\u001b[39m \u001b[39m1\u001b[39m\n\u001b[1;32m   1330\u001b[0m \u001b[39mif\u001b[39;00m \u001b[39mself\u001b[39m\u001b[39m.\u001b[39m_dataset_kind \u001b[39m==\u001b[39m _DatasetKind\u001b[39m.\u001b[39mIterable:\n\u001b[1;32m   1331\u001b[0m     \u001b[39m# Check for _IterableDatasetStopIteration\u001b[39;00m\n",
            "File \u001b[0;32m~/.local/lib/python3.8/site-packages/torch/utils/data/dataloader.py:1284\u001b[0m, in \u001b[0;36m_MultiProcessingDataLoaderIter._get_data\u001b[0;34m(self)\u001b[0m\n\u001b[1;32m   1282\u001b[0m \u001b[39melif\u001b[39;00m \u001b[39mself\u001b[39m\u001b[39m.\u001b[39m_pin_memory:\n\u001b[1;32m   1283\u001b[0m     \u001b[39mwhile\u001b[39;00m \u001b[39mself\u001b[39m\u001b[39m.\u001b[39m_pin_memory_thread\u001b[39m.\u001b[39mis_alive():\n\u001b[0;32m-> 1284\u001b[0m         success, data \u001b[39m=\u001b[39m \u001b[39mself\u001b[39;49m\u001b[39m.\u001b[39;49m_try_get_data()\n\u001b[1;32m   1285\u001b[0m         \u001b[39mif\u001b[39;00m success:\n\u001b[1;32m   1286\u001b[0m             \u001b[39mreturn\u001b[39;00m data\n",
            "File \u001b[0;32m~/.local/lib/python3.8/site-packages/torch/utils/data/dataloader.py:1132\u001b[0m, in \u001b[0;36m_MultiProcessingDataLoaderIter._try_get_data\u001b[0;34m(self, timeout)\u001b[0m\n\u001b[1;32m   1119\u001b[0m \u001b[39mdef\u001b[39;00m \u001b[39m_try_get_data\u001b[39m(\u001b[39mself\u001b[39m, timeout\u001b[39m=\u001b[39m_utils\u001b[39m.\u001b[39mMP_STATUS_CHECK_INTERVAL):\n\u001b[1;32m   1120\u001b[0m     \u001b[39m# Tries to fetch data from `self._data_queue` once for a given timeout.\u001b[39;00m\n\u001b[1;32m   1121\u001b[0m     \u001b[39m# This can also be used as inner loop of fetching without timeout, with\u001b[39;00m\n\u001b[0;32m   (...)\u001b[0m\n\u001b[1;32m   1129\u001b[0m     \u001b[39m# Returns a 2-tuple:\u001b[39;00m\n\u001b[1;32m   1130\u001b[0m     \u001b[39m#   (bool: whether successfully get data, any: data if successful else None)\u001b[39;00m\n\u001b[1;32m   1131\u001b[0m     \u001b[39mtry\u001b[39;00m:\n\u001b[0;32m-> 1132\u001b[0m         data \u001b[39m=\u001b[39m \u001b[39mself\u001b[39;49m\u001b[39m.\u001b[39;49m_data_queue\u001b[39m.\u001b[39;49mget(timeout\u001b[39m=\u001b[39;49mtimeout)\n\u001b[1;32m   1133\u001b[0m         \u001b[39mreturn\u001b[39;00m (\u001b[39mTrue\u001b[39;00m, data)\n\u001b[1;32m   1134\u001b[0m     \u001b[39mexcept\u001b[39;00m \u001b[39mException\u001b[39;00m \u001b[39mas\u001b[39;00m e:\n\u001b[1;32m   1135\u001b[0m         \u001b[39m# At timeout and error, we manually check whether any worker has\u001b[39;00m\n\u001b[1;32m   1136\u001b[0m         \u001b[39m# failed. Note that this is the only mechanism for Windows to detect\u001b[39;00m\n\u001b[1;32m   1137\u001b[0m         \u001b[39m# worker failures.\u001b[39;00m\n",
            "File \u001b[0;32m/usr/lib/python3.8/queue.py:179\u001b[0m, in \u001b[0;36mQueue.get\u001b[0;34m(self, block, timeout)\u001b[0m\n\u001b[1;32m    177\u001b[0m         \u001b[39mif\u001b[39;00m remaining \u001b[39m<\u001b[39m\u001b[39m=\u001b[39m \u001b[39m0.0\u001b[39m:\n\u001b[1;32m    178\u001b[0m             \u001b[39mraise\u001b[39;00m Empty\n\u001b[0;32m--> 179\u001b[0m         \u001b[39mself\u001b[39;49m\u001b[39m.\u001b[39;49mnot_empty\u001b[39m.\u001b[39;49mwait(remaining)\n\u001b[1;32m    180\u001b[0m item \u001b[39m=\u001b[39m \u001b[39mself\u001b[39m\u001b[39m.\u001b[39m_get()\n\u001b[1;32m    181\u001b[0m \u001b[39mself\u001b[39m\u001b[39m.\u001b[39mnot_full\u001b[39m.\u001b[39mnotify()\n",
            "File \u001b[0;32m/usr/lib/python3.8/threading.py:306\u001b[0m, in \u001b[0;36mCondition.wait\u001b[0;34m(self, timeout)\u001b[0m\n\u001b[1;32m    304\u001b[0m \u001b[39melse\u001b[39;00m:\n\u001b[1;32m    305\u001b[0m     \u001b[39mif\u001b[39;00m timeout \u001b[39m>\u001b[39m \u001b[39m0\u001b[39m:\n\u001b[0;32m--> 306\u001b[0m         gotit \u001b[39m=\u001b[39m waiter\u001b[39m.\u001b[39;49macquire(\u001b[39mTrue\u001b[39;49;00m, timeout)\n\u001b[1;32m    307\u001b[0m     \u001b[39melse\u001b[39;00m:\n\u001b[1;32m    308\u001b[0m         gotit \u001b[39m=\u001b[39m waiter\u001b[39m.\u001b[39macquire(\u001b[39mFalse\u001b[39;00m)\n",
            "\u001b[0;31mKeyboardInterrupt\u001b[0m: "
          ]
        }
      ],
      "source": [
        "learning_rate = 1e-2\n",
        "\n",
        "optimizer = optim.SGD(model.parameters(), lr=learning_rate)\n",
        "\n",
        "loss_fn = nn.CrossEntropyLoss()\n",
        "\n",
        "n_epochs = 100\n",
        "\n",
        "for epoch in range(n_epochs):\n",
        "    model.train(True)\n",
        "    for imgs, labels in train_loader:\n",
        "        imgs, labels = imgs.to(device), labels.to(device)\n",
        "        #print(labels)\n",
        "        \n",
        "        outputs = model(imgs)   # important:  nn.Conv2d expects a B × C × H × W shaped tensor as input\n",
        "        train_loss = loss_fn(outputs, labels)\n",
        "  \n",
        "        optimizer.zero_grad()\n",
        "        train_loss.backward()\n",
        "        optimizer.step()\n",
        "    \n",
        "    model.eval()\n",
        "    \n",
        "    correct = 0\n",
        "    total = 0\n",
        "    with torch.no_grad():\n",
        "        for imgs, labels in val_loader:\n",
        "            imgs, labels = imgs.to(device), labels.to(device)\n",
        "            \n",
        "            outputs = model(imgs)\n",
        "            val_loss = loss_fn(outputs, labels)\n",
        "            \n",
        "            _, predicted = torch.max(outputs, dim=1)\n",
        "            total += labels.shape[0]\n",
        "            correct += int((predicted == labels).sum())\n",
        "    print(\"Epoch: %d, train_loss: %f, val_loss: %f, val_accuracy: %f\" % (epoch, float(train_loss), float(val_loss), (correct / total)))"
      ]
    }
  ],
  "metadata": {
    "colab": {
      "provenance": [],
      "toc_visible": true
    },
    "kernelspec": {
      "display_name": "Python 3",
      "name": "python3"
    },
    "language_info": {
      "codemirror_mode": {
        "name": "ipython",
        "version": 3
      },
      "file_extension": ".py",
      "mimetype": "text/x-python",
      "name": "python",
      "nbconvert_exporter": "python",
      "pygments_lexer": "ipython3",
      "version": "3.8.10"
    }
  },
  "nbformat": 4,
  "nbformat_minor": 0
}
